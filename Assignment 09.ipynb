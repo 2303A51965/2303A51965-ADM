{
  "nbformat": 4,
  "nbformat_minor": 0,
  "metadata": {
    "colab": {
      "provenance": [],
      "authorship_tag": "ABX9TyPSfLF17Ea66k2P8egiSuAH",
      "include_colab_link": true
    },
    "kernelspec": {
      "name": "python3",
      "display_name": "Python 3"
    },
    "language_info": {
      "name": "python"
    }
  },
  "cells": [
    {
      "cell_type": "markdown",
      "metadata": {
        "id": "view-in-github",
        "colab_type": "text"
      },
      "source": [
        "<a href=\"https://colab.research.google.com/github/2303A51965/2303A51965-ADM/blob/main/Assignment%2009.ipynb\" target=\"_parent\"><img src=\"https://colab.research.google.com/assets/colab-badge.svg\" alt=\"Open In Colab\"/></a>"
      ]
    },
    {
      "cell_type": "code",
      "source": [
        "import numpy as np\n",
        "import pandas as pd\n",
        "import matplotlib.pyplot as plt\n",
        "from sklearn.model_selection import train_test_split\n",
        "from sklearn.linear_model import LinearRegression\n",
        "from sklearn.metrics import mean_squared_error,r2_score"
      ],
      "metadata": {
        "id": "vRr6KuKw02CR"
      },
      "execution_count": 2,
      "outputs": []
    },
    {
      "cell_type": "code",
      "source": [
        "data={\n",
        "    'feature1': [1,2,3,4,5,6,7,8,9,10],\n",
        "    'feature2': [2,3,4,5,6,7,8,9,10,11],\n",
        "    'feature3': [3,4,5,6,7,8,9,10,11,12],\n",
        "    'target': [5,7,9,11,13,15,17,19,21,23]\n",
        "}"
      ],
      "metadata": {
        "id": "-c90O0111qkf"
      },
      "execution_count": 6,
      "outputs": []
    },
    {
      "cell_type": "code",
      "source": [
        "df=pd.DataFrame(data)"
      ],
      "metadata": {
        "id": "NVL5Tjd82l41"
      },
      "execution_count": 7,
      "outputs": []
    },
    {
      "cell_type": "code",
      "source": [
        "#define independent (x) and dependent (y) varibles\n",
        "x=df[['feature1','feature2','feature3']]\n",
        "y=df['target']\n",
        "\n",
        "#split dataset into training and testing sets(80% train,20% test)\n",
        "x_train,x_test,y_train,y_test=train_test_split(x,y,test_size=0.2,random_state=42)\n",
        "\n",
        "#intitize and train the regression model\n",
        "model=LinearRegression()\n",
        "model.fit(x_train,y_train)\n",
        "\n",
        "#make predictions\n",
        "y_pred=model.predict(x_test)\n",
        "\n",
        "#print model coefficients and intercept\n",
        "print(f\"coefficients:{model.coef_}\")\n",
        "print(f\"intercept:{model.intercept_}\")"
      ],
      "metadata": {
        "colab": {
          "base_uri": "https://localhost:8080/"
        },
        "id": "8TFWpiL43EfW",
        "outputId": "b82ccaf0-1a51-42d1-ad74-a8f49416aa8f"
      },
      "execution_count": 9,
      "outputs": [
        {
          "output_type": "stream",
          "name": "stdout",
          "text": [
            "coefficients:[0.66666667 0.66666667 0.66666667]\n",
            "intercept:0.9999999999999982\n"
          ]
        }
      ]
    },
    {
      "cell_type": "code",
      "source": [
        "#evaluate the model\n",
        "mse=mean=mean_squared_error(y_test,y_pred)\n",
        "r2=r2_score(y_test,y_pred)\n",
        "print(f\"mean squared error:{mse}\")\n",
        "print(f\"R-squared score:{r2}\")"
      ],
      "metadata": {
        "colab": {
          "base_uri": "https://localhost:8080/"
        },
        "id": "AwENkpOh6bvm",
        "outputId": "b49a9ead-1243-4d70-e809-d2f5be7cd450"
      },
      "execution_count": 10,
      "outputs": [
        {
          "output_type": "stream",
          "name": "stdout",
          "text": [
            "mean squared error:1.5777218104420236e-30\n",
            "R-squared score:1.0\n"
          ]
        }
      ]
    }
  ]
}